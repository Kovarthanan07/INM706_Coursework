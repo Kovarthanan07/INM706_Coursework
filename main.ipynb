{
  "cells": [
    {
      "cell_type": "markdown",
      "id": "ec558c44",
      "metadata": {
        "id": "ec558c44"
      },
      "source": [
        "## Setting up the dataset"
      ]
    },
    {
      "cell_type": "code",
      "execution_count": 5,
      "id": "c50614e3",
      "metadata": {
        "id": "c50614e3"
      },
      "outputs": [],
      "source": [
        "import numpy as np\n",
        "import pandas as pd\n",
        "import matplotlib.pyplot as plt\n",
        "import seaborn as sns\n",
        "\n",
        "from sklearn.model_selection import train_test_split\n",
        "from sklearn.metrics import accuracy_score, precision_score, recall_score, f1_score, confusion_matrix, roc_auc_score, roc_curve\n",
        "\n",
        "import torch\n",
        "import torch.nn as nn\n",
        "import torch.optim as optim\n",
        "from torch.utils.data import Dataset, DataLoader\n",
        "\n",
        "from tqdm import tqdm\n",
        "import wandb"
      ]
    },
    {
      "cell_type": "code",
      "execution_count": 6,
      "id": "2cd54f59",
      "metadata": {
        "id": "2cd54f59"
      },
      "outputs": [],
      "source": [
        "\"\"\"\n",
        "Loading both abnormal and normal datasets.\n",
        "\"\"\"\n",
        "\n",
        "normal_df = pd.read_csv(\"dataset/ptbdb_normal.csv\").iloc[:, :-1]\n",
        "abnormal_df = pd.read_csv(\n",
        "    \"dataset/ptbdb_abnormal.csv\").iloc[:, :-1]"
      ]
    },
    {
      "cell_type": "code",
      "execution_count": 7,
      "id": "b1fe7750",
      "metadata": {
        "id": "b1fe7750"
      },
      "outputs": [],
      "source": [
        "\"\"\"\n",
        "To fix the imbalance, Trimming the abnormal set\n",
        "\"\"\"\n",
        "\n",
        "anomaly_df = abnormal_df.sample(n=2000, random_state=42)"
      ]
    },
    {
      "cell_type": "code",
      "execution_count": 8,
      "id": "a646f76c",
      "metadata": {
        "id": "a646f76c"
      },
      "outputs": [],
      "source": [
        "\"\"\"\n",
        "Dataset converted to numpy\n",
        "\"\"\"\n",
        "normal = normal_df.to_numpy()\n",
        "anomaly = anomaly_df.to_numpy()"
      ]
    },
    {
      "cell_type": "code",
      "execution_count": 9,
      "id": "f21242c3",
      "metadata": {
        "id": "f21242c3"
      },
      "outputs": [],
      "source": [
        "\"\"\"\n",
        "Dataset split\n",
        "\"\"\"\n",
        "\n",
        "X_train, X_test = train_test_split(normal, test_size=0.15, random_state=42, shuffle=True)"
      ]
    },
    {
      "cell_type": "code",
      "execution_count": 10,
      "id": "6ef15797",
      "metadata": {
        "id": "6ef15797"
      },
      "outputs": [],
      "source": [
        "\"\"\"\n",
        "Custom dataset class for ECG Data\n",
        "\"\"\"\n",
        "\n",
        "class ECGDataset(Dataset):\n",
        "    def __init__(self, data):\n",
        "        self.data = torch.tensor(data, dtype=torch.float32)\n",
        "\n",
        "    def __len__(self):\n",
        "        return len(self.data)\n",
        "\n",
        "    def __getitem__(self, idx):\n",
        "        return self.data[idx], self.data[idx]  # AutoEncoder\n"
      ]
    },
    {
      "cell_type": "code",
      "execution_count": 11,
      "id": "40ce35f2",
      "metadata": {
        "id": "40ce35f2"
      },
      "outputs": [],
      "source": [
        "\"\"\"\n",
        "Setting up dataloaders\n",
        "\"\"\"\n",
        "\n",
        "train_loader = DataLoader(ECGDataset(X_train), batch_size=128, shuffle=True)\n",
        "test_loader = DataLoader(ECGDataset(X_test), batch_size=128)\n",
        "anomaly_loader = DataLoader(ECGDataset(anomaly), batch_size=128)"
      ]
    },
    {
      "cell_type": "code",
      "execution_count": 12,
      "id": "e223c6ae",
      "metadata": {
        "id": "e223c6ae"
      },
      "outputs": [],
      "source": [
        "\"\"\"\n",
        "Defining the AutoEnoder model.\n",
        "including both encoder and decoder\n",
        "\"\"\"\n",
        "\n",
        "\n",
        "class Conv1DAutoEncoder(nn.Module):\n",
        "    def __init__(self, input_dim, latent_dim=32):\n",
        "        super(Conv1DAutoEncoder, self).__init__()\n",
        "        self.encoder = nn.Sequential(\n",
        "            nn.Conv1d(1, 128, kernel_size=3, padding=1),\n",
        "            nn.ReLU(),\n",
        "            nn.BatchNorm1d(128),\n",
        "            nn.MaxPool1d(2),\n",
        "            nn.Conv1d(128, 128, kernel_size=3, padding=1),\n",
        "            nn.ReLU(),\n",
        "            nn.BatchNorm1d(128),\n",
        "            nn.MaxPool1d(2),\n",
        "            nn.Conv1d(128, latent_dim, kernel_size=3, padding=1),\n",
        "            nn.ReLU(),\n",
        "            nn.BatchNorm1d(latent_dim),\n",
        "            nn.MaxPool1d(2),\n",
        "        )\n",
        "        self.decoder = nn.Sequential(\n",
        "            nn.ConvTranspose1d(latent_dim, latent_dim,\n",
        "                               kernel_size=3, padding=1),\n",
        "            nn.ReLU(),\n",
        "            nn.BatchNorm1d(latent_dim),\n",
        "            nn.ConvTranspose1d(latent_dim, 128, kernel_size=3, padding=1),\n",
        "            nn.ReLU(),\n",
        "            nn.BatchNorm1d(128),\n",
        "            nn.ConvTranspose1d(128, 128, kernel_size=3, padding=1),\n",
        "            nn.ReLU(),\n",
        "            nn.BatchNorm1d(128),\n",
        "            nn.Flatten(),\n",
        "            nn.Linear((input_dim//8)*128, input_dim)\n",
        "        )\n",
        "\n",
        "    def forward(self, x):\n",
        "        x = x.unsqueeze(1)\n",
        "        encoded = self.encoder(x)\n",
        "        decoded = self.decoder(encoded)\n",
        "        return decoded"
      ]
    },
    {
      "cell_type": "markdown",
      "source": [
        "#DeviceSetup"
      ],
      "metadata": {
        "id": "HLJrdJ8f5znw"
      },
      "id": "HLJrdJ8f5znw"
    },
    {
      "cell_type": "code",
      "source": [
        "\n",
        "\n",
        "if torch.backends.mps.is_available():\n",
        "    device = torch.device(\"mps\")\n",
        "elif torch.cuda.is_available():\n",
        "    device = torch.device(\"cuda\")\n",
        "else:\n",
        "    device = torch.device(\"cpu\")\n",
        "\n",
        "\n",
        "print(device)"
      ],
      "metadata": {
        "colab": {
          "base_uri": "https://localhost:8080/"
        },
        "id": "FrZoxqwA4fqo",
        "outputId": "ee30a565-3606-4f80-a30f-50508df64f05"
      },
      "id": "FrZoxqwA4fqo",
      "execution_count": 14,
      "outputs": [
        {
          "output_type": "stream",
          "name": "stdout",
          "text": [
            "cuda\n"
          ]
        }
      ]
    },
    {
      "cell_type": "code",
      "source": [
        "\n",
        "input_dim = X_train.shape[1]\n",
        "model = Conv1DAutoEncoder(input_dim).to(device)\n",
        "criterion = nn.L1Loss()\n",
        "optimizer = optim.Adam(model.parameters(), lr=0.01)"
      ],
      "metadata": {
        "id": "_BmBi7Ly4gv0"
      },
      "id": "_BmBi7Ly4gv0",
      "execution_count": 15,
      "outputs": []
    },
    {
      "cell_type": "code",
      "source": [
        "# 7. INIT WAND B\n",
        "wandb.init(project=\"ecg-anomaly-detection\", name=\"drive-conv1d-autoencoder\")"
      ],
      "metadata": {
        "colab": {
          "base_uri": "https://localhost:8080/",
          "height": 301
        },
        "id": "5zna0TZJ4oHG",
        "outputId": "0b5508be-8dd7-4ba8-9d53-d12f1aa0d64e"
      },
      "id": "5zna0TZJ4oHG",
      "execution_count": 16,
      "outputs": [
        {
          "output_type": "display_data",
          "data": {
            "text/plain": [
              "<IPython.core.display.Javascript object>"
            ],
            "application/javascript": [
              "\n",
              "        window._wandbApiKey = new Promise((resolve, reject) => {\n",
              "            function loadScript(url) {\n",
              "            return new Promise(function(resolve, reject) {\n",
              "                let newScript = document.createElement(\"script\");\n",
              "                newScript.onerror = reject;\n",
              "                newScript.onload = resolve;\n",
              "                document.body.appendChild(newScript);\n",
              "                newScript.src = url;\n",
              "            });\n",
              "            }\n",
              "            loadScript(\"https://cdn.jsdelivr.net/npm/postmate/build/postmate.min.js\").then(() => {\n",
              "            const iframe = document.createElement('iframe')\n",
              "            iframe.style.cssText = \"width:0;height:0;border:none\"\n",
              "            document.body.appendChild(iframe)\n",
              "            const handshake = new Postmate({\n",
              "                container: iframe,\n",
              "                url: 'https://wandb.ai/authorize'\n",
              "            });\n",
              "            const timeout = setTimeout(() => reject(\"Couldn't auto authenticate\"), 5000)\n",
              "            handshake.then(function(child) {\n",
              "                child.on('authorize', data => {\n",
              "                    clearTimeout(timeout)\n",
              "                    resolve(data)\n",
              "                });\n",
              "            });\n",
              "            })\n",
              "        });\n",
              "    "
            ]
          },
          "metadata": {}
        },
        {
          "output_type": "stream",
          "name": "stderr",
          "text": [
            "\u001b[34m\u001b[1mwandb\u001b[0m: Logging into wandb.ai. (Learn how to deploy a W&B server locally: https://wandb.me/wandb-server)\n",
            "\u001b[34m\u001b[1mwandb\u001b[0m: You can find your API key in your browser here: https://wandb.ai/authorize?ref=models\n",
            "wandb: Paste an API key from your profile and hit enter:"
          ]
        },
        {
          "name": "stdout",
          "output_type": "stream",
          "text": [
            " ··········\n"
          ]
        },
        {
          "output_type": "stream",
          "name": "stderr",
          "text": [
            "\u001b[34m\u001b[1mwandb\u001b[0m: \u001b[33mWARNING\u001b[0m If you're specifying your api key in code, ensure this code is not shared publicly.\n",
            "\u001b[34m\u001b[1mwandb\u001b[0m: \u001b[33mWARNING\u001b[0m Consider setting the WANDB_API_KEY environment variable, or running `wandb login` from the command line.\n",
            "\u001b[34m\u001b[1mwandb\u001b[0m: No netrc file found, creating one.\n",
            "\u001b[34m\u001b[1mwandb\u001b[0m: Appending key for api.wandb.ai to your netrc file: /root/.netrc\n",
            "\u001b[34m\u001b[1mwandb\u001b[0m: Currently logged in as: \u001b[33mmariumw784\u001b[0m (\u001b[33mmariumw784-city-university-of-london\u001b[0m) to \u001b[32mhttps://api.wandb.ai\u001b[0m. Use \u001b[1m`wandb login --relogin`\u001b[0m to force relogin\n"
          ]
        },
        {
          "output_type": "display_data",
          "data": {
            "text/plain": [
              "<IPython.core.display.HTML object>"
            ],
            "text/html": [
              "Tracking run with wandb version 0.19.11"
            ]
          },
          "metadata": {}
        },
        {
          "output_type": "display_data",
          "data": {
            "text/plain": [
              "<IPython.core.display.HTML object>"
            ],
            "text/html": [
              "Run data is saved locally in <code>/content/wandb/run-20250516_205842-y6l2ufwl</code>"
            ]
          },
          "metadata": {}
        },
        {
          "output_type": "display_data",
          "data": {
            "text/plain": [
              "<IPython.core.display.HTML object>"
            ],
            "text/html": [
              "Syncing run <strong><a href='https://wandb.ai/mariumw784-city-university-of-london/ecg-anomaly-detection/runs/y6l2ufwl' target=\"_blank\">drive-conv1d-autoencoder</a></strong> to <a href='https://wandb.ai/mariumw784-city-university-of-london/ecg-anomaly-detection' target=\"_blank\">Weights & Biases</a> (<a href='https://wandb.me/developer-guide' target=\"_blank\">docs</a>)<br>"
            ]
          },
          "metadata": {}
        },
        {
          "output_type": "display_data",
          "data": {
            "text/plain": [
              "<IPython.core.display.HTML object>"
            ],
            "text/html": [
              " View project at <a href='https://wandb.ai/mariumw784-city-university-of-london/ecg-anomaly-detection' target=\"_blank\">https://wandb.ai/mariumw784-city-university-of-london/ecg-anomaly-detection</a>"
            ]
          },
          "metadata": {}
        },
        {
          "output_type": "display_data",
          "data": {
            "text/plain": [
              "<IPython.core.display.HTML object>"
            ],
            "text/html": [
              " View run at <a href='https://wandb.ai/mariumw784-city-university-of-london/ecg-anomaly-detection/runs/y6l2ufwl' target=\"_blank\">https://wandb.ai/mariumw784-city-university-of-london/ecg-anomaly-detection/runs/y6l2ufwl</a>"
            ]
          },
          "metadata": {}
        },
        {
          "output_type": "execute_result",
          "data": {
            "text/html": [
              "<button onClick=\"this.nextSibling.style.display='block';this.style.display='none';\">Display W&B run</button><iframe src='https://wandb.ai/mariumw784-city-university-of-london/ecg-anomaly-detection/runs/y6l2ufwl?jupyter=true' style='border:none;width:100%;height:420px;display:none;'></iframe>"
            ],
            "text/plain": [
              "<wandb.sdk.wandb_run.Run at 0x7d369fa09050>"
            ]
          },
          "metadata": {},
          "execution_count": 16
        }
      ]
    },
    {
      "cell_type": "markdown",
      "source": [
        "Training"
      ],
      "metadata": {
        "id": "3J-QVX0W59xY"
      },
      "id": "3J-QVX0W59xY"
    },
    {
      "cell_type": "code",
      "source": [
        "epochs = 50\n",
        "for epoch in range(epochs):\n",
        "    model.train()\n",
        "    running_loss = 0\n",
        "    loop = tqdm(train_loader, desc=f\"Epoch {epoch+1}/{epochs}\")\n",
        "    for batch_X, _ in loop:\n",
        "        batch_X = batch_X.to(device)\n",
        "        optimizer.zero_grad()\n",
        "        outputs = model(batch_X)\n",
        "        loss = criterion(outputs, batch_X)\n",
        "        loss.backward()\n",
        "        optimizer.step()\n",
        "        running_loss += loss.item() * batch_X.size(0)\n",
        "        loop.set_postfix(loss=loss.item())\n",
        "    epoch_loss = running_loss / len(train_loader.dataset)\n",
        "    wandb.log({\"train_loss\": epoch_loss})"
      ],
      "metadata": {
        "colab": {
          "base_uri": "https://localhost:8080/"
        },
        "id": "dLBe__yv5JY2",
        "outputId": "07f79209-6221-470d-b7c5-2f041e29b9ee"
      },
      "id": "dLBe__yv5JY2",
      "execution_count": 17,
      "outputs": [
        {
          "output_type": "stream",
          "name": "stderr",
          "text": [
            "Epoch 1/50: 100%|██████████| 27/27 [00:01<00:00, 16.93it/s, loss=0.966]\n",
            "Epoch 2/50: 100%|██████████| 27/27 [00:00<00:00, 117.96it/s, loss=0.64]\n",
            "Epoch 3/50: 100%|██████████| 27/27 [00:00<00:00, 123.23it/s, loss=0.451]\n",
            "Epoch 4/50: 100%|██████████| 27/27 [00:00<00:00, 127.09it/s, loss=0.342]\n",
            "Epoch 5/50: 100%|██████████| 27/27 [00:00<00:00, 126.89it/s, loss=0.29]\n",
            "Epoch 6/50: 100%|██████████| 27/27 [00:00<00:00, 125.28it/s, loss=0.253]\n",
            "Epoch 7/50: 100%|██████████| 27/27 [00:00<00:00, 120.41it/s, loss=0.212]\n",
            "Epoch 8/50: 100%|██████████| 27/27 [00:00<00:00, 130.19it/s, loss=0.174]\n",
            "Epoch 9/50: 100%|██████████| 27/27 [00:00<00:00, 125.56it/s, loss=0.156]\n",
            "Epoch 10/50: 100%|██████████| 27/27 [00:00<00:00, 126.30it/s, loss=0.14]\n",
            "Epoch 11/50: 100%|██████████| 27/27 [00:00<00:00, 124.17it/s, loss=0.107]\n",
            "Epoch 12/50: 100%|██████████| 27/27 [00:00<00:00, 117.89it/s, loss=0.0877]\n",
            "Epoch 13/50: 100%|██████████| 27/27 [00:00<00:00, 127.90it/s, loss=0.0783]\n",
            "Epoch 14/50: 100%|██████████| 27/27 [00:00<00:00, 125.51it/s, loss=0.0703]\n",
            "Epoch 15/50: 100%|██████████| 27/27 [00:00<00:00, 128.00it/s, loss=0.0658]\n",
            "Epoch 16/50: 100%|██████████| 27/27 [00:00<00:00, 126.67it/s, loss=0.0622]\n",
            "Epoch 17/50: 100%|██████████| 27/27 [00:00<00:00, 121.52it/s, loss=0.0663]\n",
            "Epoch 18/50: 100%|██████████| 27/27 [00:00<00:00, 124.85it/s, loss=0.0567]\n",
            "Epoch 19/50: 100%|██████████| 27/27 [00:00<00:00, 127.63it/s, loss=0.0447]\n",
            "Epoch 20/50: 100%|██████████| 27/27 [00:00<00:00, 127.09it/s, loss=0.0509]\n",
            "Epoch 21/50: 100%|██████████| 27/27 [00:00<00:00, 122.19it/s, loss=0.0378]\n",
            "Epoch 22/50: 100%|██████████| 27/27 [00:00<00:00, 123.01it/s, loss=0.0374]\n",
            "Epoch 23/50: 100%|██████████| 27/27 [00:00<00:00, 76.29it/s, loss=0.0385]\n",
            "Epoch 24/50: 100%|██████████| 27/27 [00:00<00:00, 90.99it/s, loss=0.0321]\n",
            "Epoch 25/50: 100%|██████████| 27/27 [00:00<00:00, 118.46it/s, loss=0.0336]\n",
            "Epoch 26/50: 100%|██████████| 27/27 [00:00<00:00, 72.00it/s, loss=0.0326]\n",
            "Epoch 27/50: 100%|██████████| 27/27 [00:00<00:00, 100.18it/s, loss=0.0369]\n",
            "Epoch 28/50: 100%|██████████| 27/27 [00:00<00:00, 121.03it/s, loss=0.0271]\n",
            "Epoch 29/50: 100%|██████████| 27/27 [00:00<00:00, 118.98it/s, loss=0.0235]\n",
            "Epoch 30/50: 100%|██████████| 27/27 [00:00<00:00, 123.79it/s, loss=0.0236]\n",
            "Epoch 31/50: 100%|██████████| 27/27 [00:00<00:00, 108.89it/s, loss=0.0222]\n",
            "Epoch 32/50: 100%|██████████| 27/27 [00:00<00:00, 104.18it/s, loss=0.0263]\n",
            "Epoch 33/50: 100%|██████████| 27/27 [00:00<00:00, 110.98it/s, loss=0.02]\n",
            "Epoch 34/50: 100%|██████████| 27/27 [00:00<00:00, 102.81it/s, loss=0.0215]\n",
            "Epoch 35/50: 100%|██████████| 27/27 [00:00<00:00, 105.64it/s, loss=0.023]\n",
            "Epoch 36/50: 100%|██████████| 27/27 [00:00<00:00, 106.95it/s, loss=0.0271]\n",
            "Epoch 37/50: 100%|██████████| 27/27 [00:00<00:00, 105.08it/s, loss=0.0191]\n",
            "Epoch 38/50: 100%|██████████| 27/27 [00:00<00:00, 115.03it/s, loss=0.0214]\n",
            "Epoch 39/50: 100%|██████████| 27/27 [00:00<00:00, 106.15it/s, loss=0.0239]\n",
            "Epoch 40/50: 100%|██████████| 27/27 [00:00<00:00, 100.63it/s, loss=0.0173]\n",
            "Epoch 41/50: 100%|██████████| 27/27 [00:00<00:00, 96.84it/s, loss=0.0161]\n",
            "Epoch 42/50: 100%|██████████| 27/27 [00:00<00:00, 95.35it/s, loss=0.0172]\n",
            "Epoch 43/50: 100%|██████████| 27/27 [00:00<00:00, 113.37it/s, loss=0.0249]\n",
            "Epoch 44/50: 100%|██████████| 27/27 [00:00<00:00, 125.87it/s, loss=0.0239]\n",
            "Epoch 45/50: 100%|██████████| 27/27 [00:00<00:00, 125.67it/s, loss=0.0157]\n",
            "Epoch 46/50: 100%|██████████| 27/27 [00:00<00:00, 120.27it/s, loss=0.0145]\n",
            "Epoch 47/50: 100%|██████████| 27/27 [00:00<00:00, 126.09it/s, loss=0.02]\n",
            "Epoch 48/50: 100%|██████████| 27/27 [00:00<00:00, 123.14it/s, loss=0.0162]\n",
            "Epoch 49/50: 100%|██████████| 27/27 [00:00<00:00, 125.43it/s, loss=0.0202]\n",
            "Epoch 50/50: 100%|██████████| 27/27 [00:00<00:00, 120.43it/s, loss=0.0165]\n"
          ]
        }
      ]
    }
  ],
  "metadata": {
    "kernelspec": {
      "display_name": "Python 3",
      "name": "python3"
    },
    "language_info": {
      "codemirror_mode": {
        "name": "ipython",
        "version": 3
      },
      "file_extension": ".py",
      "mimetype": "text/x-python",
      "name": "python",
      "nbconvert_exporter": "python",
      "pygments_lexer": "ipython3",
      "version": "3.10.4"
    },
    "colab": {
      "provenance": [],
      "gpuType": "T4"
    },
    "accelerator": "GPU"
  },
  "nbformat": 4,
  "nbformat_minor": 5
}
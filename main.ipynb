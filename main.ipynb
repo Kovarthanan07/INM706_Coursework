{
  "cells": [
    {
      "cell_type": "markdown",
      "id": "ec558c44",
      "metadata": {
        "id": "ec558c44"
      },
      "source": [
        "## Setting up the dataset"
      ]
    },
    {
      "cell_type": "code",
      "execution_count": 32,
      "id": "c50614e3",
      "metadata": {
        "id": "c50614e3"
      },
      "outputs": [],
      "source": [
        "import numpy as np\n",
        "import pandas as pd\n",
        "import matplotlib.pyplot as plt\n",
        "import seaborn as sns\n",
        "\n",
        "from sklearn.model_selection import train_test_split\n",
        "from sklearn.metrics import accuracy_score, precision_score, recall_score, f1_score, confusion_matrix, roc_auc_score, roc_curve\n",
        "\n",
        "import torch\n",
        "import torch.nn as nn\n",
        "import torch.optim as optim\n",
        "from torch.utils.data import Dataset, DataLoader\n",
        "\n",
        "from tqdm import tqdm\n",
        "import wandb"
      ]
    },
    {
      "cell_type": "code",
      "execution_count": 33,
      "id": "2cd54f59",
      "metadata": {
        "id": "2cd54f59"
      },
      "outputs": [],
      "source": [
        "\"\"\"\n",
        "Loading both abnormal and normal datasets.\n",
        "\"\"\"\n",
        "\n",
        "normal_df = pd.read_csv(\"dataset/ptbdb_normal.csv\").iloc[:, :-1]\n",
        "abnormal_df = pd.read_csv(\n",
        "    \"dataset/ptbdb_abnormal.csv\").iloc[:, :-1]"
      ]
    },
    {
      "cell_type": "code",
      "execution_count": 34,
      "id": "b1fe7750",
      "metadata": {
        "id": "b1fe7750"
      },
      "outputs": [],
      "source": [
        "\"\"\"\n",
        "To fix the imbalance, Trimming the abnormal set\n",
        "\"\"\"\n",
        "\n",
        "anomaly_df = abnormal_df.sample(n=2000, random_state=42)"
      ]
    },
    {
      "cell_type": "code",
      "execution_count": 35,
      "id": "a646f76c",
      "metadata": {
        "id": "a646f76c"
      },
      "outputs": [],
      "source": [
        "\"\"\"\n",
        "Dataset converted to numpy\n",
        "\"\"\"\n",
        "normal = normal_df.to_numpy()\n",
        "anomaly = anomaly_df.to_numpy()"
      ]
    },
    {
      "cell_type": "code",
      "execution_count": 36,
      "id": "f21242c3",
      "metadata": {
        "id": "f21242c3"
      },
      "outputs": [],
      "source": [
        "\"\"\"\n",
        "Dataset split\n",
        "\"\"\"\n",
        "\n",
        "X_train, X_test = train_test_split(normal, test_size=0.15, random_state=42, shuffle=True)"
      ]
    },
    {
      "cell_type": "code",
      "execution_count": 37,
      "id": "6ef15797",
      "metadata": {
        "id": "6ef15797"
      },
      "outputs": [],
      "source": [
        "\"\"\"\n",
        "Custom dataset class for ECG Data\n",
        "\"\"\"\n",
        "\n",
        "class ECGDataset(Dataset):\n",
        "    def __init__(self, data):\n",
        "        self.data = torch.tensor(data, dtype=torch.float32)\n",
        "\n",
        "    def __len__(self):\n",
        "        return len(self.data)\n",
        "\n",
        "    def __getitem__(self, idx):\n",
        "        return self.data[idx], self.data[idx]  # AutoEncoder\n"
      ]
    },
    {
      "cell_type": "code",
      "execution_count": 38,
      "id": "40ce35f2",
      "metadata": {
        "id": "40ce35f2"
      },
      "outputs": [],
      "source": [
        "\"\"\"\n",
        "Setting up dataloaders\n",
        "\"\"\"\n",
        "\n",
        "train_loader = DataLoader(ECGDataset(X_train), batch_size=128, shuffle=True)\n",
        "test_loader = DataLoader(ECGDataset(X_test), batch_size=128)\n",
        "anomaly_loader = DataLoader(ECGDataset(anomaly), batch_size=128)"
      ]
    },
    {
      "cell_type": "code",
      "execution_count": 39,
      "id": "e223c6ae",
      "metadata": {
        "id": "e223c6ae"
      },
      "outputs": [],
      "source": [
        "\"\"\"\n",
        "Defining the AutoEnoder model.\n",
        "including both encoder and decoder\n",
        "\"\"\"\n",
        "\n",
        "\n",
        "class Conv1DAutoEncoder(nn.Module):\n",
        "    def __init__(self, input_dim, latent_dim=32):\n",
        "        super(Conv1DAutoEncoder, self).__init__()\n",
        "        self.encoder = nn.Sequential(\n",
        "            nn.Conv1d(1, 128, kernel_size=3, padding=1),\n",
        "            nn.ReLU(),\n",
        "            nn.BatchNorm1d(128),\n",
        "            nn.MaxPool1d(2),\n",
        "            nn.Conv1d(128, 128, kernel_size=3, padding=1),\n",
        "            nn.ReLU(),\n",
        "            nn.BatchNorm1d(128),\n",
        "            nn.MaxPool1d(2),\n",
        "            nn.Conv1d(128, latent_dim, kernel_size=3, padding=1),\n",
        "            nn.ReLU(),\n",
        "            nn.BatchNorm1d(latent_dim),\n",
        "            nn.MaxPool1d(2),\n",
        "        )\n",
        "        self.decoder = nn.Sequential(\n",
        "            nn.ConvTranspose1d(latent_dim, latent_dim,\n",
        "                               kernel_size=3, padding=1),\n",
        "            nn.ReLU(),\n",
        "            nn.BatchNorm1d(latent_dim),\n",
        "            nn.ConvTranspose1d(latent_dim, 128, kernel_size=3, padding=1),\n",
        "            nn.ReLU(),\n",
        "            nn.BatchNorm1d(128),\n",
        "            nn.ConvTranspose1d(128, 128, kernel_size=3, padding=1),\n",
        "            nn.ReLU(),\n",
        "            nn.BatchNorm1d(128),\n",
        "            nn.Flatten(),\n",
        "            nn.Linear((input_dim//8)*128, input_dim)\n",
        "        )\n",
        "\n",
        "    def forward(self, x):\n",
        "        x = x.unsqueeze(1)\n",
        "        encoded = self.encoder(x)\n",
        "        decoded = self.decoder(encoded)\n",
        "        return decoded"
      ]
    },
    {
      "cell_type": "markdown",
      "id": "HLJrdJ8f5znw",
      "metadata": {
        "id": "HLJrdJ8f5znw"
      },
      "source": [
        "#DeviceSetup"
      ]
    },
    {
      "cell_type": "code",
      "execution_count": 40,
      "id": "FrZoxqwA4fqo",
      "metadata": {
        "colab": {
          "base_uri": "https://localhost:8080/"
        },
        "id": "FrZoxqwA4fqo",
        "outputId": "ee30a565-3606-4f80-a30f-50508df64f05"
      },
      "outputs": [
        {
          "name": "stdout",
          "output_type": "stream",
          "text": [
            "mps\n"
          ]
        }
      ],
      "source": [
        "\n",
        "\n",
        "if torch.backends.mps.is_available():\n",
        "    device = torch.device(\"mps\")\n",
        "elif torch.cuda.is_available():\n",
        "    device = torch.device(\"cuda\")\n",
        "else:\n",
        "    device = torch.device(\"cpu\")\n",
        "\n",
        "\n",
        "print(device)"
      ]
    },
    {
      "cell_type": "code",
      "execution_count": 41,
      "id": "_BmBi7Ly4gv0",
      "metadata": {
        "id": "_BmBi7Ly4gv0"
      },
      "outputs": [],
      "source": [
        "\n",
        "input_dim = X_train.shape[1]\n",
        "model = Conv1DAutoEncoder(input_dim).to(device)\n",
        "criterion = nn.L1Loss()\n",
        "optimizer = optim.Adam(model.parameters(), lr=0.01)"
      ]
    },
    {
      "cell_type": "code",
      "execution_count": 42,
      "id": "5zna0TZJ4oHG",
      "metadata": {
        "colab": {
          "base_uri": "https://localhost:8080/",
          "height": 301
        },
        "id": "5zna0TZJ4oHG",
        "outputId": "0b5508be-8dd7-4ba8-9d53-d12f1aa0d64e"
      },
      "outputs": [
        {
          "name": "stderr",
          "output_type": "stream",
          "text": [
            "\u001b[34m\u001b[1mwandb\u001b[0m: Currently logged in as: \u001b[33mkovarthanan07\u001b[0m (\u001b[33mavok\u001b[0m) to \u001b[32mhttps://api.wandb.ai\u001b[0m. Use \u001b[1m`wandb login --relogin`\u001b[0m to force relogin\n"
          ]
        },
        {
          "data": {
            "text/html": [
              "Tracking run with wandb version 0.19.11"
            ],
            "text/plain": [
              "<IPython.core.display.HTML object>"
            ]
          },
          "metadata": {},
          "output_type": "display_data"
        },
        {
          "data": {
            "text/html": [
              "Run data is saved locally in <code>/Users/kovarthanan/Acedamic/City, University of London/INM706 - Seqence/INM706_Coursework/wandb/run-20250516_234244-anvtdvvh</code>"
            ],
            "text/plain": [
              "<IPython.core.display.HTML object>"
            ]
          },
          "metadata": {},
          "output_type": "display_data"
        },
        {
          "data": {
            "text/html": [
              "Syncing run <strong><a href='https://wandb.ai/avok/ecg-anomaly-detection/runs/anvtdvvh' target=\"_blank\">drive-conv1d-autoencoder</a></strong> to <a href='https://wandb.ai/avok/ecg-anomaly-detection' target=\"_blank\">Weights & Biases</a> (<a href='https://wandb.me/developer-guide' target=\"_blank\">docs</a>)<br>"
            ],
            "text/plain": [
              "<IPython.core.display.HTML object>"
            ]
          },
          "metadata": {},
          "output_type": "display_data"
        },
        {
          "data": {
            "text/html": [
              " View project at <a href='https://wandb.ai/avok/ecg-anomaly-detection' target=\"_blank\">https://wandb.ai/avok/ecg-anomaly-detection</a>"
            ],
            "text/plain": [
              "<IPython.core.display.HTML object>"
            ]
          },
          "metadata": {},
          "output_type": "display_data"
        },
        {
          "data": {
            "text/html": [
              " View run at <a href='https://wandb.ai/avok/ecg-anomaly-detection/runs/anvtdvvh' target=\"_blank\">https://wandb.ai/avok/ecg-anomaly-detection/runs/anvtdvvh</a>"
            ],
            "text/plain": [
              "<IPython.core.display.HTML object>"
            ]
          },
          "metadata": {},
          "output_type": "display_data"
        },
        {
          "data": {
            "text/html": [
              "<button onClick=\"this.nextSibling.style.display='block';this.style.display='none';\">Display W&B run</button><iframe src='https://wandb.ai/avok/ecg-anomaly-detection/runs/anvtdvvh?jupyter=true' style='border:none;width:100%;height:420px;display:none;'></iframe>"
            ],
            "text/plain": [
              "<wandb.sdk.wandb_run.Run at 0x307f2a8f0>"
            ]
          },
          "execution_count": 42,
          "metadata": {},
          "output_type": "execute_result"
        }
      ],
      "source": [
        "# 7. INIT WAND B\n",
        "wandb.init(project=\"ecg-anomaly-detection\", name=\"drive-conv1d-autoencoder\")"
      ]
    },
    {
      "cell_type": "markdown",
      "id": "3J-QVX0W59xY",
      "metadata": {
        "id": "3J-QVX0W59xY"
      },
      "source": [
        "Training"
      ]
    },
    {
      "cell_type": "code",
      "execution_count": 43,
      "id": "dLBe__yv5JY2",
      "metadata": {
        "colab": {
          "base_uri": "https://localhost:8080/"
        },
        "id": "dLBe__yv5JY2",
        "outputId": "07f79209-6221-470d-b7c5-2f041e29b9ee"
      },
      "outputs": [
        {
          "name": "stderr",
          "output_type": "stream",
          "text": [
            "Epoch 1/50: 100%|██████████| 27/27 [00:03<00:00,  8.34it/s, loss=0.708]\n",
            "Epoch 2/50: 100%|██████████| 27/27 [00:00<00:00, 57.34it/s, loss=0.553]\n",
            "Epoch 3/50: 100%|██████████| 27/27 [00:00<00:00, 67.60it/s, loss=0.385]\n",
            "Epoch 4/50: 100%|██████████| 27/27 [00:00<00:00, 67.88it/s, loss=0.362]\n",
            "Epoch 5/50: 100%|██████████| 27/27 [00:00<00:00, 68.61it/s, loss=0.296]\n",
            "Epoch 6/50: 100%|██████████| 27/27 [00:00<00:00, 67.17it/s, loss=0.258]\n",
            "Epoch 7/50: 100%|██████████| 27/27 [00:00<00:00, 69.31it/s, loss=0.191]\n",
            "Epoch 8/50: 100%|██████████| 27/27 [00:00<00:00, 61.55it/s, loss=0.14] \n",
            "Epoch 9/50: 100%|██████████| 27/27 [00:00<00:00, 69.03it/s, loss=0.096] \n",
            "Epoch 10/50: 100%|██████████| 27/27 [00:00<00:00, 68.87it/s, loss=0.117]\n",
            "Epoch 11/50: 100%|██████████| 27/27 [00:00<00:00, 67.03it/s, loss=0.0737]\n",
            "Epoch 12/50: 100%|██████████| 27/27 [00:00<00:00, 67.70it/s, loss=0.0676]\n",
            "Epoch 13/50: 100%|██████████| 27/27 [00:00<00:00, 68.30it/s, loss=0.0577]\n",
            "Epoch 14/50: 100%|██████████| 27/27 [00:00<00:00, 66.33it/s, loss=0.0548]\n",
            "Epoch 15/50: 100%|██████████| 27/27 [00:00<00:00, 61.38it/s, loss=0.0447]\n",
            "Epoch 16/50: 100%|██████████| 27/27 [00:00<00:00, 67.23it/s, loss=0.04]  \n",
            "Epoch 17/50: 100%|██████████| 27/27 [00:00<00:00, 64.54it/s, loss=0.0441]\n",
            "Epoch 18/50: 100%|██████████| 27/27 [00:00<00:00, 64.03it/s, loss=0.0397]\n",
            "Epoch 19/50: 100%|██████████| 27/27 [00:00<00:00, 68.18it/s, loss=0.0344]\n",
            "Epoch 20/50: 100%|██████████| 27/27 [00:00<00:00, 68.43it/s, loss=0.0409]\n",
            "Epoch 21/50: 100%|██████████| 27/27 [00:00<00:00, 68.22it/s, loss=0.0416]\n",
            "Epoch 22/50: 100%|██████████| 27/27 [00:00<00:00, 60.44it/s, loss=0.0295]\n",
            "Epoch 23/50: 100%|██████████| 27/27 [00:00<00:00, 68.24it/s, loss=0.0267]\n",
            "Epoch 24/50: 100%|██████████| 27/27 [00:00<00:00, 67.72it/s, loss=0.0254]\n",
            "Epoch 25/50: 100%|██████████| 27/27 [00:00<00:00, 67.43it/s, loss=0.0256]\n",
            "Epoch 26/50: 100%|██████████| 27/27 [00:00<00:00, 67.40it/s, loss=0.026] \n",
            "Epoch 27/50: 100%|██████████| 27/27 [00:00<00:00, 68.68it/s, loss=0.0224]\n",
            "Epoch 28/50: 100%|██████████| 27/27 [00:00<00:00, 61.57it/s, loss=0.0337]\n",
            "Epoch 29/50: 100%|██████████| 27/27 [00:00<00:00, 68.53it/s, loss=0.0261]\n",
            "Epoch 30/50: 100%|██████████| 27/27 [00:00<00:00, 67.08it/s, loss=0.0195]\n",
            "Epoch 31/50: 100%|██████████| 27/27 [00:00<00:00, 67.93it/s, loss=0.0235]\n",
            "Epoch 32/50: 100%|██████████| 27/27 [00:00<00:00, 66.42it/s, loss=0.0191]\n",
            "Epoch 33/50: 100%|██████████| 27/27 [00:00<00:00, 68.00it/s, loss=0.0188]\n",
            "Epoch 34/50: 100%|██████████| 27/27 [00:00<00:00, 61.22it/s, loss=0.02]  \n",
            "Epoch 35/50: 100%|██████████| 27/27 [00:00<00:00, 67.06it/s, loss=0.0166]\n",
            "Epoch 36/50: 100%|██████████| 27/27 [00:00<00:00, 67.41it/s, loss=0.0242]\n",
            "Epoch 37/50: 100%|██████████| 27/27 [00:00<00:00, 68.09it/s, loss=0.0187]\n",
            "Epoch 38/50: 100%|██████████| 27/27 [00:00<00:00, 66.48it/s, loss=0.0169]\n",
            "Epoch 39/50: 100%|██████████| 27/27 [00:00<00:00, 68.23it/s, loss=0.0231]\n",
            "Epoch 40/50: 100%|██████████| 27/27 [00:00<00:00, 60.04it/s, loss=0.0158]\n",
            "Epoch 41/50: 100%|██████████| 27/27 [00:00<00:00, 67.49it/s, loss=0.0191]\n",
            "Epoch 42/50: 100%|██████████| 27/27 [00:00<00:00, 67.71it/s, loss=0.0176]\n",
            "Epoch 43/50: 100%|██████████| 27/27 [00:00<00:00, 67.50it/s, loss=0.017] \n",
            "Epoch 44/50: 100%|██████████| 27/27 [00:00<00:00, 67.80it/s, loss=0.0176]\n",
            "Epoch 45/50: 100%|██████████| 27/27 [00:00<00:00, 62.46it/s, loss=0.0183]\n",
            "Epoch 46/50: 100%|██████████| 27/27 [00:00<00:00, 61.54it/s, loss=0.0156]\n",
            "Epoch 47/50: 100%|██████████| 27/27 [00:00<00:00, 68.40it/s, loss=0.0178]\n",
            "Epoch 48/50: 100%|██████████| 27/27 [00:00<00:00, 66.80it/s, loss=0.0189]\n",
            "Epoch 49/50: 100%|██████████| 27/27 [00:00<00:00, 68.09it/s, loss=0.0171]\n",
            "Epoch 50/50: 100%|██████████| 27/27 [00:00<00:00, 67.38it/s, loss=0.0148]\n"
          ]
        }
      ],
      "source": [
        "epochs = 50\n",
        "for epoch in range(epochs):\n",
        "    model.train()\n",
        "    running_loss = 0\n",
        "    loop = tqdm(train_loader, desc=f\"Epoch {epoch+1}/{epochs}\")\n",
        "    for batch_X, _ in loop:\n",
        "        batch_X = batch_X.to(device)\n",
        "        optimizer.zero_grad()\n",
        "        outputs = model(batch_X)\n",
        "        loss = criterion(outputs, batch_X)\n",
        "        loss.backward()\n",
        "        optimizer.step()\n",
        "        running_loss += loss.item() * batch_X.size(0)\n",
        "        loop.set_postfix(loss=loss.item())\n",
        "    epoch_loss = running_loss / len(train_loader.dataset)\n",
        "    wandb.log({\"train_loss\": epoch_loss})"
      ]
    },
    {
      "cell_type": "code",
      "execution_count": 47,
      "id": "61f453d2",
      "metadata": {},
      "outputs": [],
      "source": [
        "\"\"\" \n",
        "Defining loss computations\n",
        "\"\"\"\n",
        "\n",
        "def compute_losses(model, loader):\n",
        "    model.eval()\n",
        "    losses = []\n",
        "    with torch.no_grad():\n",
        "        for batch_X, _ in loader:\n",
        "            batch_X = batch_X.to(device)\n",
        "            outputs = model(batch_X)\n",
        "            loss = torch.mean(torch.abs(outputs - batch_X), dim=1)\n",
        "            losses.extend(loss.cpu().numpy())\n",
        "    return np.array(losses)"
      ]
    },
    {
      "cell_type": "code",
      "execution_count": 48,
      "id": "a8a1feea",
      "metadata": {},
      "outputs": [],
      "source": [
        "\"\"\" \n",
        "Setting up the losses\n",
        "\"\"\"\n",
        "\n",
        "train_losses = compute_losses(model, train_loader)\n",
        "test_losses = compute_losses(model, test_loader)\n",
        "anomaly_losses = compute_losses(model, anomaly_loader)"
      ]
    },
    {
      "cell_type": "code",
      "execution_count": 49,
      "id": "6456f8c0",
      "metadata": {},
      "outputs": [],
      "source": [
        "\"\"\" \n",
        "Setting up threshold\n",
        "\"\"\"\n",
        "threshold = np.mean(train_losses) + np.std(train_losses)"
      ]
    },
    {
      "cell_type": "code",
      "execution_count": null,
      "id": "6eb5af75",
      "metadata": {},
      "outputs": [],
      "source": []
    },
    {
      "cell_type": "code",
      "execution_count": null,
      "id": "48bf19cb",
      "metadata": {},
      "outputs": [],
      "source": []
    }
  ],
  "metadata": {
    "accelerator": "GPU",
    "colab": {
      "gpuType": "T4",
      "provenance": []
    },
    "kernelspec": {
      "display_name": "Python 3",
      "name": "python3"
    },
    "language_info": {
      "codemirror_mode": {
        "name": "ipython",
        "version": 3
      },
      "file_extension": ".py",
      "mimetype": "text/x-python",
      "name": "python",
      "nbconvert_exporter": "python",
      "pygments_lexer": "ipython3",
      "version": "3.10.4"
    }
  },
  "nbformat": 4,
  "nbformat_minor": 5
}
